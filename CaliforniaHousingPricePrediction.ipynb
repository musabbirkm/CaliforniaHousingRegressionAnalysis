{
 "cells": [
  {
   "cell_type": "code",
   "execution_count": 1,
   "id": "537d8b3b-6b8c-472a-bae7-0928a5c462b0",
   "metadata": {},
   "outputs": [],
   "source": [
    "import pandas as pd\n",
    "from sklearn.datasets import fetch_california_housing\n",
    "from sklearn.metrics import mean_squared_error, mean_absolute_error, r2_score\n",
    "from sklearn.model_selection import train_test_split\n",
    "from sklearn.preprocessing import StandardScaler\n",
    "from sklearn.linear_model import LinearRegression\n",
    "from sklearn.tree import DecisionTreeRegressor\n",
    "from sklearn.ensemble import RandomForestRegressor, GradientBoostingRegressor\n",
    "from sklearn.svm import SVR"
   ]
  },
  {
   "cell_type": "code",
   "execution_count": 2,
   "id": "4b43edb3-e9e0-4c4b-a45c-da8d7c14feda",
   "metadata": {},
   "outputs": [],
   "source": [
    "# Load the dataset\n",
    "california = fetch_california_housing()\n",
    "\n",
    "# Convert to pandas DataFrame\n",
    "df = pd.DataFrame(california.data, columns=california.feature_names)\n",
    "df['MedPrice'] = california.target"
   ]
  },
  {
   "cell_type": "code",
   "execution_count": 3,
   "id": "dd8a6efa-9968-4e8d-8a44-2d0ebb9e6fa0",
   "metadata": {},
   "outputs": [
    {
     "name": "stdout",
     "output_type": "stream",
     "text": [
      "Dataset Shape: (20640, 9)\n",
      "\n",
      "First 5 rows:\n",
      "   MedInc  HouseAge  AveRooms  AveBedrms  Population  AveOccup  Latitude  \\\n",
      "0  8.3252      41.0  6.984127   1.023810       322.0  2.555556     37.88   \n",
      "1  8.3014      21.0  6.238137   0.971880      2401.0  2.109842     37.86   \n",
      "2  7.2574      52.0  8.288136   1.073446       496.0  2.802260     37.85   \n",
      "3  5.6431      52.0  5.817352   1.073059       558.0  2.547945     37.85   \n",
      "4  3.8462      52.0  6.281853   1.081081       565.0  2.181467     37.85   \n",
      "\n",
      "   Longitude  MedPrice  \n",
      "0    -122.23     4.526  \n",
      "1    -122.22     3.585  \n",
      "2    -122.24     3.521  \n",
      "3    -122.25     3.413  \n",
      "4    -122.25     3.422  \n",
      "\n",
      "Missing Values: 0\n"
     ]
    }
   ],
   "source": [
    "# Display dataset information\n",
    "print(\"Dataset Shape:\", df.shape)\n",
    "print(\"\\nFirst 5 rows:\")\n",
    "print(df.head())\n",
    "print(\"\\nMissing Values:\", df.isnull().sum().sum())"
   ]
  },
  {
   "cell_type": "code",
   "execution_count": 4,
   "id": "0119aa47-aaa9-41e5-bc03-b052f89ebc6f",
   "metadata": {},
   "outputs": [],
   "source": [
    "# Split into features (X) and target (y)\n",
    "X = df.drop('MedPrice', axis=1)\n",
    "y = df['MedPrice']\n",
    "\n",
    "# Split into training and testing sets\n",
    "X_train, X_test, y_train, y_test = train_test_split(X, y, test_size=0.2, random_state=42)\n",
    "\n",
    "# Feature scaling (standardization)\n",
    "scaler = StandardScaler()\n",
    "X_train_scaled = scaler.fit_transform(X_train)\n",
    "X_test_scaled = scaler.transform(X_test)"
   ]
  },
  {
   "cell_type": "code",
   "execution_count": 5,
   "id": "bcfc0983-6dfb-4a78-9464-e354e8507001",
   "metadata": {},
   "outputs": [],
   "source": [
    "# 2 Regression Algorithm Implementation\n",
    "\n",
    "# Initialize models\n",
    "models = {\n",
    "    \"Linear Regression\": LinearRegression(),\n",
    "    \"Decision Tree\": DecisionTreeRegressor(random_state=42),\n",
    "    \"Random Forest\": RandomForestRegressor(random_state=42),\n",
    "    \"Gradient Boosting\": GradientBoostingRegressor(random_state=42),\n",
    "    \"Support Vector Regressor\": SVR()\n",
    "}\n"
   ]
  },
  {
   "cell_type": "code",
   "execution_count": 6,
   "id": "72e69833-fac4-4859-8127-f584c88188e1",
   "metadata": {},
   "outputs": [
    {
     "name": "stdout",
     "output_type": "stream",
     "text": [
      "\n",
      "Linear Regression Results:\n",
      "MSE: 0.5559\n",
      "MAE: 0.5332\n",
      "R²: 0.5758\n",
      "\n",
      "Decision Tree Results:\n",
      "MSE: 0.4940\n",
      "MAE: 0.4539\n",
      "R²: 0.6230\n",
      "\n",
      "Random Forest Results:\n",
      "MSE: 0.2552\n",
      "MAE: 0.3274\n",
      "R²: 0.8053\n",
      "\n",
      "Gradient Boosting Results:\n",
      "MSE: 0.2940\n",
      "MAE: 0.3717\n",
      "R²: 0.7756\n",
      "\n",
      "Support Vector Regressor Results:\n",
      "MSE: 0.3570\n",
      "MAE: 0.3986\n",
      "R²: 0.7276\n"
     ]
    }
   ],
   "source": [
    "# Train and evaluate models\n",
    "results = []\n",
    "\n",
    "for name, model in models.items():\n",
    "    # Train the model\n",
    "    model.fit(X_train_scaled, y_train)\n",
    "\n",
    "    # Make predictions\n",
    "    y_pred = model.predict(X_test_scaled)\n",
    "\n",
    "    # Calculate evaluation metrics\n",
    "    mse = mean_squared_error(y_test, y_pred)\n",
    "    mae = mean_absolute_error(y_test, y_pred)\n",
    "    r2 = r2_score(y_test, y_pred)\n",
    "\n",
    "    # Store results\n",
    "    results.append({\n",
    "        \"Model\": name,\n",
    "        \"MSE\": mse,\n",
    "        \"MAE\": mae,\n",
    "        \"R²\": r2\n",
    "    })\n",
    "\n",
    "    # Print results\n",
    "    print(f\"\\n{name} Results:\")\n",
    "    print(f\"MSE: {mse:.4f}\")\n",
    "    print(f\"MAE: {mae:.4f}\")\n",
    "    print(f\"R²: {r2:.4f}\")"
   ]
  },
  {
   "cell_type": "code",
   "execution_count": 9,
   "id": "a9900893-a33f-4681-8710-2f6448311145",
   "metadata": {},
   "outputs": [
    {
     "name": "stdout",
     "output_type": "stream",
     "text": [
      "\n",
      "Model Comparison:\n",
      "                   Model      MSE      MAE       R²\n",
      "       Linear Regression 0.555892 0.533200 0.575788\n",
      "           Decision Tree 0.493969 0.453904 0.623042\n",
      "           Random Forest 0.255170 0.327425 0.805275\n",
      "       Gradient Boosting 0.293999 0.371650 0.775643\n",
      "Support Vector Regressor 0.357004 0.398599 0.727563\n"
     ]
    }
   ],
   "source": [
    "# Convert results to DataFrame\n",
    "results_df = pd.DataFrame(results)\n",
    "print(\"\\nModel Comparison:\")\n",
    "print(results_df.to_string(index=False))"
   ]
  },
  {
   "cell_type": "code",
   "execution_count": 10,
   "id": "3985c6bb-13cf-428b-955d-b74a9c9ba1dc",
   "metadata": {},
   "outputs": [
    {
     "name": "stdout",
     "output_type": "stream",
     "text": [
      "\n",
      "Best Model:\n",
      "Model: Random Forest, MSE: 0.2552, R²: 0.8053\n",
      "\n",
      "Worst Model:\n",
      "Model: Linear Regression, MSE: 0.5559, R²: 0.5758\n"
     ]
    }
   ],
   "source": [
    "# 3. Model Evaluation and Comparison\n",
    "\n",
    "# Identify best and worst models\n",
    "best_model = results_df.loc[results_df['MSE'].idxmin()]\n",
    "worst_model = results_df.loc[results_df['MSE'].idxmax()]\n",
    "\n",
    "print(\"\\nBest Model:\")\n",
    "print(f\"Model: {best_model['Model']}, MSE: {best_model['MSE']:.4f}, R²: {best_model['R²']:.4f}\")\n",
    "\n",
    "print(\"\\nWorst Model:\")\n",
    "print(f\"Model: {worst_model['Model']}, MSE: {worst_model['MSE']:.4f}, R²: {worst_model['R²']:.4f}\")"
   ]
  },
  {
   "cell_type": "code",
   "execution_count": null,
   "id": "709d7c65-6a6c-47d0-813c-7a1db5d853e4",
   "metadata": {},
   "outputs": [],
   "source": []
  }
 ],
 "metadata": {
  "kernelspec": {
   "display_name": "Python 3 (ipykernel)",
   "language": "python",
   "name": "python3"
  },
  "language_info": {
   "codemirror_mode": {
    "name": "ipython",
    "version": 3
   },
   "file_extension": ".py",
   "mimetype": "text/x-python",
   "name": "python",
   "nbconvert_exporter": "python",
   "pygments_lexer": "ipython3",
   "version": "3.11.9"
  }
 },
 "nbformat": 4,
 "nbformat_minor": 5
}
